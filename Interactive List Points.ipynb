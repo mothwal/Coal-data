{
 "cells": [
  {
   "cell_type": "markdown",
   "metadata": {},
   "source": [
    "###### Interactive capabilities of Jupyter note to help plot and look at data and changiing value bb altering sliders around.\n",
    "###### This can be used during exploratory Data analysis phase "
   ]
  },
  {
   "cell_type": "code",
   "execution_count": 5,
   "metadata": {},
   "outputs": [
    {
     "name": "stdout",
     "output_type": "stream",
     "text": [
      "Requirement already satisfied: rand in c:\\users\\louis\\onedrive\\documents\\temp\\lib\\site-packages (0.3.0)\n",
      "Requirement already satisfied: peewee<4.0.0,>=3.13.3 in c:\\users\\louis\\onedrive\\documents\\temp\\lib\\site-packages (from rand) (3.14.4)\n",
      "Requirement already satisfied: requests<3.0.0,>=2.23.0 in c:\\users\\louis\\onedrive\\documents\\temp\\lib\\site-packages (from rand) (2.25.1)\n",
      "Requirement already satisfied: pytest-cov<3.0,>=2.0 in c:\\users\\louis\\onedrive\\documents\\temp\\lib\\site-packages (from rand) (2.11.1)\n",
      "Requirement already satisfied: certifi>=2017.4.17 in c:\\users\\louis\\onedrive\\documents\\temp\\lib\\site-packages (from requests<3.0.0,>=2.23.0->rand) (2019.3.9)\n",
      "Requirement already satisfied: idna<3,>=2.5 in c:\\users\\louis\\onedrive\\documents\\temp\\lib\\site-packages (from requests<3.0.0,>=2.23.0->rand) (2.8)\n",
      "Requirement already satisfied: chardet<5,>=3.0.2 in c:\\users\\louis\\onedrive\\documents\\temp\\lib\\site-packages (from requests<3.0.0,>=2.23.0->rand) (3.0.4)\n",
      "Requirement already satisfied: urllib3<1.27,>=1.21.1 in c:\\users\\louis\\onedrive\\documents\\temp\\lib\\site-packages (from requests<3.0.0,>=2.23.0->rand) (1.26.2)\n",
      "Requirement already satisfied: pytest>=4.6 in c:\\users\\louis\\onedrive\\documents\\temp\\lib\\site-packages (from pytest-cov<3.0,>=2.0->rand) (6.2.2)\n",
      "Requirement already satisfied: coverage>=5.2.1 in c:\\users\\louis\\onedrive\\documents\\temp\\lib\\site-packages (from pytest-cov<3.0,>=2.0->rand) (5.5)\n",
      "Requirement already satisfied: pluggy<1.0.0a1,>=0.12 in c:\\users\\louis\\onedrive\\documents\\temp\\lib\\site-packages (from pytest>=4.6->pytest-cov<3.0,>=2.0->rand) (0.13.1)\n",
      "Requirement already satisfied: atomicwrites>=1.0; sys_platform == \"win32\" in c:\\users\\louis\\onedrive\\documents\\temp\\lib\\site-packages (from pytest>=4.6->pytest-cov<3.0,>=2.0->rand) (1.3.0)\n",
      "Requirement already satisfied: attrs>=19.2.0 in c:\\users\\louis\\onedrive\\documents\\temp\\lib\\site-packages (from pytest>=4.6->pytest-cov<3.0,>=2.0->rand) (20.3.0)\n",
      "Requirement already satisfied: iniconfig in c:\\users\\louis\\onedrive\\documents\\temp\\lib\\site-packages (from pytest>=4.6->pytest-cov<3.0,>=2.0->rand) (1.1.1)\n",
      "Requirement already satisfied: py>=1.8.2 in c:\\users\\louis\\onedrive\\documents\\temp\\lib\\site-packages (from pytest>=4.6->pytest-cov<3.0,>=2.0->rand) (1.10.0)\n",
      "Requirement already satisfied: colorama; sys_platform == \"win32\" in c:\\users\\louis\\onedrive\\documents\\temp\\lib\\site-packages (from pytest>=4.6->pytest-cov<3.0,>=2.0->rand) (0.4.1)\n",
      "Requirement already satisfied: packaging in c:\\users\\louis\\onedrive\\documents\\temp\\lib\\site-packages (from pytest>=4.6->pytest-cov<3.0,>=2.0->rand) (19.0)\n",
      "Requirement already satisfied: toml in c:\\users\\louis\\onedrive\\documents\\temp\\lib\\site-packages (from pytest>=4.6->pytest-cov<3.0,>=2.0->rand) (0.10.2)\n",
      "Requirement already satisfied: importlib-metadata>=0.12; python_version < \"3.8\" in c:\\users\\louis\\onedrive\\documents\\temp\\lib\\site-packages (from pytest>=4.6->pytest-cov<3.0,>=2.0->rand) (3.7.3)\n",
      "Requirement already satisfied: pyparsing>=2.0.2 in c:\\users\\louis\\onedrive\\documents\\temp\\lib\\site-packages (from packaging->pytest>=4.6->pytest-cov<3.0,>=2.0->rand) (2.3.1)\n",
      "Requirement already satisfied: six in c:\\users\\louis\\onedrive\\documents\\temp\\lib\\site-packages (from packaging->pytest>=4.6->pytest-cov<3.0,>=2.0->rand) (1.12.0)\n",
      "Requirement already satisfied: zipp>=0.5 in c:\\users\\louis\\onedrive\\documents\\temp\\lib\\site-packages (from importlib-metadata>=0.12; python_version < \"3.8\"->pytest>=4.6->pytest-cov<3.0,>=2.0->rand) (3.4.1)\n",
      "Requirement already satisfied: typing-extensions>=3.6.4; python_version < \"3.8\" in c:\\users\\louis\\onedrive\\documents\\temp\\lib\\site-packages (from importlib-metadata>=0.12; python_version < \"3.8\"->pytest>=4.6->pytest-cov<3.0,>=2.0->rand) (3.7.4.3)\n",
      "Note: you may need to restart the kernel to use updated packages.\n"
     ]
    }
   ],
   "source": [
    "\n",
    "pip install rand"
   ]
  },
  {
   "cell_type": "code",
   "execution_count": 25,
   "metadata": {},
   "outputs": [],
   "source": [
    "%matplotlib inline\n",
    "\n",
    "import matplotlib.pyplot as plt\n",
    "import numpy as np\n",
    "import numpy.random \n",
    "import rand\n",
    "\n",
    "from ipywidgets import FloatSlider, interactive, IntSlider, ToggleButton "
   ]
  },
  {
   "cell_type": "code",
   "execution_count": 22,
   "metadata": {},
   "outputs": [],
   "source": [
    "def polynomial(slope = 2.0, intercept = 5.0, show_points = True):\n",
    "    x = np.linspace(-10, 10, num = 50)\n",
    "    y = slope * x + intercept\n",
    "    plt.rcParams['figure.figsize'] = 8,5\n",
    "    plt.figure()\n",
    "    if show_points:\n",
    "        plt.scatter(x, y)\n",
    "    plt.plot(x, y)\n",
    "    plt.xlim(-15, 15)\n",
    "    plt.ylim(-80, 100)\n",
    "    plt.vlines(0, -100, 100, color = 'black', alpha=0.2)\n",
    "    plt.hlines(0, -100, 100, color = 'black', alpha=0.2)\n",
    "    plt.tight_layout()"
   ]
  },
  {
   "cell_type": "code",
   "execution_count": 24,
   "metadata": {},
   "outputs": [
    {
     "data": {
      "application/vnd.jupyter.widget-view+json": {
       "model_id": "762ce8ce8cea4be48cb578ce4ee02b38",
       "version_major": 2,
       "version_minor": 0
      },
      "text/plain": [
       "interactive(children=(FloatSlider(value=2.0, description='slope', min=-100.0, step=5.0), FloatSlider(value=5.0…"
      ]
     },
     "metadata": {},
     "output_type": "display_data"
    }
   ],
   "source": [
    "slope_slider = FloatSlider(value = 2.0, min = - 100.0, max = 100.0, step =5.0)\n",
    "w = interactive(polynomial, slope = slope_slider)\n",
    "w"
   ]
  },
  {
   "cell_type": "code",
   "execution_count": null,
   "metadata": {},
   "outputs": [],
   "source": []
  }
 ],
 "metadata": {
  "kernelspec": {
   "display_name": "Python 3",
   "language": "python",
   "name": "python3"
  },
  "language_info": {
   "codemirror_mode": {
    "name": "ipython",
    "version": 3
   },
   "file_extension": ".py",
   "mimetype": "text/x-python",
   "name": "python",
   "nbconvert_exporter": "python",
   "pygments_lexer": "ipython3",
   "version": "3.7.3"
  }
 },
 "nbformat": 4,
 "nbformat_minor": 2
}

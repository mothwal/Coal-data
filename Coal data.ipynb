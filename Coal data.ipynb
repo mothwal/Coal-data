{
 "cells": [
  {
   "cell_type": "markdown",
   "metadata": {},
   "source": [
    "### Note Book Extension"
   ]
  },
  {
   "cell_type": "markdown",
   "metadata": {},
   "source": [
    "Working with data from the Autintexas Gov\n",
    "\n",
    "https://data.austintexas.gov/Health-and-Community-Services/2013-Restaurant-Inspection-Scores/cutd-edeq"
   ]
  },
  {
   "cell_type": "code",
   "execution_count": 1,
   "metadata": {},
   "outputs": [
    {
     "name": "stdout",
     "output_type": "stream",
     "text": [
      "Collecting pivottablejs\n",
      "  Downloading https://files.pythonhosted.org/packages/0b/0f/46f1c9a1c9bf1540d3b7803753517fa9755cddc648769ba8cd67de82b51c/pivottablejs-0.9.0-py2.py3-none-any.whl\n",
      "Installing collected packages: pivottablejs\n",
      "Successfully installed pivottablejs-0.9.0\n",
      "Note: you may need to restart the kernel to use updated packages.\n"
     ]
    }
   ],
   "source": [
    "pip install pivottablejs"
   ]
  },
  {
   "cell_type": "code",
   "execution_count": 1,
   "metadata": {},
   "outputs": [],
   "source": [
    "import pandas as pd\n",
    "import numpy as np\n",
    "\n",
    "from pivottablejs import pivot_ui"
   ]
  },
  {
   "cell_type": "code",
   "execution_count": 6,
   "metadata": {},
   "outputs": [],
   "source": [
    "df = pd.read_csv(\"C:/Users/louis/Videos/Captures/2013_Restaurant_Inspection_Scores.csv\")"
   ]
  },
  {
   "cell_type": "code",
   "execution_count": 7,
   "metadata": {},
   "outputs": [
    {
     "data": {
      "text/html": [
       "<div>\n",
       "<style scoped>\n",
       "    .dataframe tbody tr th:only-of-type {\n",
       "        vertical-align: middle;\n",
       "    }\n",
       "\n",
       "    .dataframe tbody tr th {\n",
       "        vertical-align: top;\n",
       "    }\n",
       "\n",
       "    .dataframe thead th {\n",
       "        text-align: right;\n",
       "    }\n",
       "</style>\n",
       "<table border=\"1\" class=\"dataframe\">\n",
       "  <thead>\n",
       "    <tr style=\"text-align: right;\">\n",
       "      <th></th>\n",
       "      <th>Restaurant Name</th>\n",
       "      <th>Zip Code</th>\n",
       "      <th>Score</th>\n",
       "      <th>Address</th>\n",
       "      <th>Facility ID</th>\n",
       "      <th>Process Description</th>\n",
       "    </tr>\n",
       "  </thead>\n",
       "  <tbody>\n",
       "    <tr>\n",
       "      <th>0</th>\n",
       "      <td>Austin Golf Club</td>\n",
       "      <td>78669.0</td>\n",
       "      <td>100</td>\n",
       "      <td>24900 W SH\\nSPICEWOOD, TX 78669</td>\n",
       "      <td>2801719</td>\n",
       "      <td>Routine Inspection</td>\n",
       "    </tr>\n",
       "    <tr>\n",
       "      <th>1</th>\n",
       "      <td>Habesha Restaurant &amp; Bar</td>\n",
       "      <td>78723.0</td>\n",
       "      <td>78</td>\n",
       "      <td>1 2\\nAUSTIN, TX 78723</td>\n",
       "      <td>10864575</td>\n",
       "      <td>Routine Inspection</td>\n",
       "    </tr>\n",
       "    <tr>\n",
       "      <th>2</th>\n",
       "      <td>LW - Raising Cane's Restaurants</td>\n",
       "      <td>78734.0</td>\n",
       "      <td>100</td>\n",
       "      <td>1600 S FM 620 RD\\nLAKEWAY, TX 78734</td>\n",
       "      <td>11531765</td>\n",
       "      <td>Routine Inspection</td>\n",
       "    </tr>\n",
       "    <tr>\n",
       "      <th>3</th>\n",
       "      <td>Dollar Tree #07241</td>\n",
       "      <td>78736.0</td>\n",
       "      <td>92</td>\n",
       "      <td>7101 W SH\\nAUSTIN, TX 78736</td>\n",
       "      <td>11723124</td>\n",
       "      <td>Routine Inspection</td>\n",
       "    </tr>\n",
       "    <tr>\n",
       "      <th>4</th>\n",
       "      <td>Cedar International Academy II</td>\n",
       "      <td>78753.0</td>\n",
       "      <td>85</td>\n",
       "      <td>8416 N IH\\nAUSTIN, TX 78753</td>\n",
       "      <td>10118311</td>\n",
       "      <td>Routine Inspection</td>\n",
       "    </tr>\n",
       "  </tbody>\n",
       "</table>\n",
       "</div>"
      ],
      "text/plain": [
       "                   Restaurant Name  Zip Code  Score  \\\n",
       "0                 Austin Golf Club   78669.0    100   \n",
       "1         Habesha Restaurant & Bar   78723.0     78   \n",
       "2  LW - Raising Cane's Restaurants   78734.0    100   \n",
       "3               Dollar Tree #07241   78736.0     92   \n",
       "4   Cedar International Academy II   78753.0     85   \n",
       "\n",
       "                               Address  Facility ID Process Description  \n",
       "0      24900 W SH\\nSPICEWOOD, TX 78669      2801719  Routine Inspection  \n",
       "1                1 2\\nAUSTIN, TX 78723     10864575  Routine Inspection  \n",
       "2  1600 S FM 620 RD\\nLAKEWAY, TX 78734     11531765  Routine Inspection  \n",
       "3          7101 W SH\\nAUSTIN, TX 78736     11723124  Routine Inspection  \n",
       "4          8416 N IH\\nAUSTIN, TX 78753     10118311  Routine Inspection  "
      ]
     },
     "execution_count": 7,
     "metadata": {},
     "output_type": "execute_result"
    }
   ],
   "source": [
    "df.head()"
   ]
  },
  {
   "cell_type": "code",
   "execution_count": 8,
   "metadata": {},
   "outputs": [
    {
     "data": {
      "text/html": [
       "\n",
       "        <iframe\n",
       "            width=\"100%\"\n",
       "            height=\"500\"\n",
       "            src=\"pivottablejs.html\"\n",
       "            frameborder=\"0\"\n",
       "            allowfullscreen\n",
       "        ></iframe>\n",
       "        "
      ],
      "text/plain": [
       "<IPython.lib.display.IFrame at 0x22b2090ce48>"
      ]
     },
     "execution_count": 8,
     "metadata": {},
     "output_type": "execute_result"
    }
   ],
   "source": [
    "pivot_ui(df)"
   ]
  },
  {
   "cell_type": "code",
   "execution_count": 12,
   "metadata": {
    "scrolled": true
   },
   "outputs": [
    {
     "data": {
      "text/html": [
       "\n",
       "        <iframe\n",
       "            width=\"100%\"\n",
       "            height=\"500\"\n",
       "            src=\"pivottablejs.html\"\n",
       "            frameborder=\"0\"\n",
       "            allowfullscreen\n",
       "        ></iframe>\n",
       "        "
      ],
      "text/plain": [
       "<IPython.lib.display.IFrame at 0x22b20a52fd0>"
      ]
     },
     "execution_count": 12,
     "metadata": {},
     "output_type": "execute_result"
    }
   ],
   "source": [
    "df['bin_score'] = pd.cut(df.Score, bins = np.arange(30, 105, 5))\n",
    "\n",
    "pivot_ui(df[['bin_score', 'Zip Code']])"
   ]
  },
  {
   "cell_type": "code",
   "execution_count": null,
   "metadata": {},
   "outputs": [],
   "source": []
  }
 ],
 "metadata": {
  "kernelspec": {
   "display_name": "Python 3",
   "language": "python",
   "name": "python3"
  },
  "language_info": {
   "codemirror_mode": {
    "name": "ipython",
    "version": 3
   },
   "file_extension": ".py",
   "mimetype": "text/x-python",
   "name": "python",
   "nbconvert_exporter": "python",
   "pygments_lexer": "ipython3",
   "version": "3.7.3"
  }
 },
 "nbformat": 4,
 "nbformat_minor": 2
}
